{
  "nbformat": 4,
  "nbformat_minor": 0,
  "metadata": {
    "colab": {
      "provenance": [],
      "include_colab_link": true
    },
    "kernelspec": {
      "name": "python3",
      "display_name": "Python 3"
    },
    "language_info": {
      "name": "python"
    }
  },
  "cells": [
    {
      "cell_type": "markdown",
      "metadata": {
        "id": "view-in-github",
        "colab_type": "text"
      },
      "source": [
        "<a href=\"https://colab.research.google.com/github/tarunkay7/AIML-IIITH/blob/main/AIML_Module_1_Lab_3_Data_Augmentation.ipynb\" target=\"_parent\"><img src=\"https://colab.research.google.com/assets/colab-badge.svg\" alt=\"Open In Colab\"/></a>"
      ]
    },
    {
      "cell_type": "markdown",
      "metadata": {
        "id": "w3yfry25JgZK"
      },
      "source": [
        "# Data augmentation\n",
        "\n",
        " In this lab, we will see how augmentation of data samples help in improving the machine learning performance"
      ]
    },
    {
      "cell_type": "code",
      "metadata": {
        "id": "xZU8_elooqP0"
      },
      "source": [
        "import numpy as np\n",
        "import matplotlib.pyplot as plt\n",
        "from keras.datasets import mnist\n",
        "# set randomseed\n",
        "rng = np.random.default_rng(seed=42)\n",
        "from sklearn.utils.extmath import cartesian\n",
        "from skimage.transform import rotate, AffineTransform, warp\n",
        "import math"
      ],
      "execution_count": 4,
      "outputs": []
    },
    {
      "cell_type": "markdown",
      "metadata": {
        "id": "T5pHYogSMHiE"
      },
      "source": [
        "Augmentation is useful when we have less training data available. Augmentation allows us to 'create' a larger dataset programatically.\n",
        "\n",
        "For this lab we will use a subset of MNIST that is very small, to better understand the effect of augmentation."
      ]
    },
    {
      "cell_type": "code",
      "metadata": {
        "id": "gJvmWJ58ovx5"
      },
      "source": [
        "#loading the dataset\n",
        "(train_X, train_y), (test_X, test_y) = mnist.load_data()\n",
        "train_X = train_X/255\n",
        "test_X = test_X/255\n",
        "\n",
        "train_X = train_X[::1200,:,:].copy() # subsample. Otherwise it will take too long!\n",
        "train_y = train_y[::1200].copy() # do the same to the labels"
      ],
      "execution_count": 5,
      "outputs": []
    },
    {
      "cell_type": "markdown",
      "metadata": {
        "id": "8XamH6z1Rt7S"
      },
      "source": [
        "Let us borrow a few functions from the previous labs:"
      ]
    },
    {
      "cell_type": "code",
      "metadata": {
        "id": "Zk2W5_3BRLMS"
      },
      "source": [
        "def NN1(traindata, trainlabel, query):\n",
        "  diff  = traindata - query  # find the difference between features. Numpy automatically takes care of the size here\n",
        "  sq = diff*diff # square the differences\n",
        "  dist = sq.sum(1) # add up the squares\n",
        "  label = trainlabel[np.argmin(dist)] # our predicted label is the label of the training data which has the least distance from the query\n",
        "  return label\n",
        "\n",
        "def NN(traindata, trainlabel, testdata):\n",
        "  # we will run nearest neighbour for each sample in the test data\n",
        "  # and collect the predicted classes in an array using list comprehension\n",
        "  traindata = traindata.reshape(-1, 28*28)\n",
        "  testdata = testdata.reshape(-1,28*28)\n",
        "  predlabel = np.array([NN1(traindata, trainlabel, i) for i in testdata])\n",
        "  return predlabel\n",
        "\n",
        "def Accuracy(gtlabel, predlabel):\n",
        "  assert len(gtlabel)==len(predlabel), \"Length of the groundtruth labels and predicted labels should be the same\"\n",
        "  correct = (gtlabel==predlabel).sum() # count the number of times the groundtruth label is equal to the predicted label.\n",
        "  return correct/len(gtlabel)"
      ],
      "execution_count": 6,
      "outputs": []
    },
    {
      "cell_type": "markdown",
      "metadata": {
        "id": "eGiA3LmDSJZo"
      },
      "source": [
        "In this lab, we will use the image pixels themselves as features, instead of extracting features. Each image has 28*28 pixels, so we will flatten them to 784 pixels to use as features. Note that this is very compute intensive and will take a long time.<br>\n",
        "\n",
        "Let us check the baseline accuracy on the test set without any augmentations. We hope that adding augmentations will help us to get better results."
      ]
    },
    {
      "cell_type": "code",
      "metadata": {
        "id": "4tQvnoasRNEV",
        "colab": {
          "base_uri": "https://localhost:8080/"
        },
        "outputId": "4f55b4cf-c387-4837-fcf1-06c3920037d5"
      },
      "source": [
        "testpred = NN(train_X, train_y, test_X)\n",
        "print('Baseline accuracy without augmentation is ', Accuracy(test_y, testpred))"
      ],
      "execution_count": 7,
      "outputs": [
        {
          "output_type": "stream",
          "name": "stdout",
          "text": [
            "Baseline accuracy without augmentation is  0.6472\n"
          ]
        }
      ]
    },
    {
      "cell_type": "markdown",
      "metadata": {
        "id": "ZfkcMfhIZQ7U"
      },
      "source": [
        "Let us try to improve this accuracy using augmentations. When we create augmentations, we have to make sure that the changes reflect what will naturally occur in the dataset. For example, we should not add colour to our samples as an augmentation because they do not naturally occur. We should not also flip the images in MNIST, because flipped images have different meanings for digits.\n",
        "\n",
        "### Augmentation 1: rotation\n",
        "\n",
        "Let us try rotating the image a little. We will use skimage library for this."
      ]
    },
    {
      "cell_type": "code",
      "metadata": {
        "id": "z5WolJ9fZE7L",
        "colab": {
          "base_uri": "https://localhost:8080/",
          "height": 860
        },
        "outputId": "850abb41-296c-46c0-9786-4a3f042a6f11"
      },
      "source": [
        "plt.imshow(train_X[2], cmap='gray')\n",
        "plt.show()\n",
        "plt.imshow(rotate(train_X[2],25), cmap='gray')"
      ],
      "execution_count": 8,
      "outputs": [
        {
          "output_type": "display_data",
          "data": {
            "text/plain": [
              "<Figure size 640x480 with 1 Axes>"
            ],
            "image/png": "[encoded data removed]"
          },
          "metadata": {}
        },
        {
          "output_type": "execute_result",
          "data": {
            "text/plain": [
              "<matplotlib.image.AxesImage at 0x7fcfbbe07250>"
            ]
          },
          "metadata": {},
          "execution_count": 8
        },
        {
          "output_type": "display_data",
          "data": {
            "text/plain": [
              "<Figure size 640x480 with 1 Axes>"
            ],
            "image/png": "[encoded data removed]"
          },
          "metadata": {}
        }
      ]
    },
    {
      "cell_type": "markdown",
      "metadata": {
        "id": "KE33Yxgggu0c"
      },
      "source": [
        "After rotating, the the class of the image is still the same. Let us make a function to rotate multiple images by random angles. We want a slightly different image every time we run this function. So, we generate a random number between 0 and 1 and change it so that it lies between -constraint/2 and +constraint/2"
      ]
    },
    {
      "cell_type": "code",
      "metadata": {
        "id": "vyM7pUV7Reze"
      },
      "source": [
        "def augRotate(sample, angleconstraint):\n",
        "  if angleconstraint==0:\n",
        "    return sample\n",
        "  if len(sample.shape)==2:\n",
        "    sample = np.expand_dims(sample, 0)  # make sure the sample is 3 dimensional\n",
        "  angle = rng.random(len(sample)) # generate random numbers for angles\n",
        "  angle = (angle-0.5)*angleconstraint # make the random angle constrained\n",
        "  nsample = sample.copy() # preallocate the augmented array to make it faster\n",
        "  for ii in range(len(sample)):\n",
        "    nsample[ii] = rotate(sample[ii], angle[ii])\n",
        "  return np.squeeze(nsample) # take care if the input had only one sample."
      ],
      "execution_count": 9,
      "outputs": []
    },
    {
      "cell_type": "markdown",
      "metadata": {
        "id": "kDk-N5VNjar9"
      },
      "source": [
        "This function returns a slightly different image each time we call it. So we can increase the number of images in the sample by any multiple."
      ]
    },
    {
      "cell_type": "code",
      "metadata": {
        "id": "Vw3O9zGFgI8K",
        "colab": {
          "base_uri": "https://localhost:8080/",
          "height": 639
        },
        "outputId": "0a0d5059-8a6e-40cd-be63-036e03e1158a"
      },
      "source": [
        "sample = train_X[20]\n",
        "angleconstraint = 70\n",
        "# show the original image\n",
        "plt.imshow(sample, cmap='gray')\n",
        "plt.show()\n",
        "plt.subplot(1,3,1)\n",
        "plt.imshow(augRotate(sample, angleconstraint), cmap='gray') # show an augmented image\n",
        "plt.subplot(1,3,2)\n",
        "plt.imshow(augRotate(sample, angleconstraint), cmap='gray') # show another augmented image from the same sample\n",
        "plt.subplot(1,3,3)\n",
        "plt.imshow(augRotate(sample, angleconstraint), cmap='gray') # one more image from the same sample"
      ],
      "execution_count": 10,
      "outputs": [
        {
          "output_type": "display_data",
          "data": {
            "text/plain": [
              "<Figure size 640x480 with 1 Axes>"
            ],
            "image/png": "[encoded data removed]"
          },
          "metadata": {}
        },
        {
          "output_type": "execute_result",
          "data": {
            "text/plain": [
              "<matplotlib.image.AxesImage at 0x7fcfbc07a980>"
            ]
          },
          "metadata": {},
          "execution_count": 10
        },
        {
          "output_type": "display_data",
          "data": {
            "text/plain": [
              "<Figure size 640x480 with 3 Axes>"
            ],
            "image/png": "[encoded data removed]"
          },
          "metadata": {}
        }
      ]
    },
    {
      "cell_type": "markdown",
      "metadata": {
        "id": "ytv3NxF-kgxN"
      },
      "source": [
        "Let us augment the whole dataset and see if this improves the test accuracy"
      ]
    },
    {
      "cell_type": "code",
      "metadata": {
        "id": "iNzNAoDBkRzj",
        "colab": {
          "base_uri": "https://localhost:8080/"
        },
        "outputId": "c6f3b504-cc08-42b5-be20-a535e2de3076"
      },
      "source": [
        "# hyperparameters\n",
        "angleconstraint = 60\n",
        "naugmentations = 5\n",
        "\n",
        "# augment\n",
        "augdata = train_X # we include the original images also in the augmented dataset\n",
        "auglabel = train_y\n",
        "for ii in range(naugmentations):\n",
        "  augdata = np.concatenate((augdata, augRotate(train_X, angleconstraint))) # concatenate the augmented data to the set\n",
        "  auglabel = np.concatenate((auglabel, train_y))  # the labels don't change when we augment\n",
        "\n",
        "# check the test accuracy\n",
        "testpred = NN(augdata, auglabel, test_X)\n",
        "print('Accuracy after rotation augmentation is ', Accuracy(test_y, testpred))"
      ],
      "execution_count": 11,
      "outputs": [
        {
          "output_type": "stream",
          "name": "stdout",
          "text": [
            "Accuracy after rotation augmentation is  0.6616\n"
          ]
        }
      ]
    },
    {
      "cell_type": "markdown",
      "metadata": {
        "id": "E88Nt9s1p5R6"
      },
      "source": [
        "The angle constraint is a hyperparameter which we have to tune using a validation set. (Here we are not doing that for time constraints). Let us try a grid search to find the best angle constraint."
      ]
    },
    {
      "cell_type": "code",
      "metadata": {
        "id": "aiaFRLREmGp6",
        "colab": {
          "base_uri": "https://localhost:8080/"
        },
        "outputId": "095ba9bc-8ef9-406b-912c-8edb2a2d523a"
      },
      "source": [
        "angleconstraints = [0,10,20,30,40,50,60,70,80,90] # the values we want to test\n",
        "accuracies = np.zeros(len(angleconstraints), dtype=np.float) # we will save the values here\n",
        "\n",
        "for ii in range(len(angleconstraints)):\n",
        "  # create the augmented dataset\n",
        "  augdata = train_X # we include the original images also in the augmented dataset\n",
        "  auglabel = train_y\n",
        "  for jj in range(naugmentations):\n",
        "    augdata = np.concatenate((augdata, augRotate(train_X, angleconstraints[ii]))) # concatenate the augmented data to the set\n",
        "    auglabel = np.concatenate((auglabel, train_y))  # the labels don't change when we augment\n",
        "\n",
        "  # check the test accuracy\n",
        "  testpred = NN(augdata, auglabel, test_X)\n",
        "  accuracies[ii] = Accuracy(test_y, testpred)\n",
        "  print('Accuracy after rotation augmentation constrained by ',angleconstraints[ii], ' is ', accuracies[ii], flush=True)"
      ],
      "execution_count": 12,
      "outputs": [
        {
          "output_type": "stream",
          "name": "stderr",
          "text": [
            "<ipython-input-12-2f14d3721156>:2: DeprecationWarning: `np.float` is a deprecated alias for the builtin `float`. To silence this warning, use `float` by itself. Doing this will not modify any behavior and is safe. If you specifically wanted the numpy scalar type, use `np.float64` here.\n",
            "Deprecated in NumPy 1.20; for more details and guidance: https://numpy.org/devdocs/release/1.20.0-notes.html#deprecations\n",
            "  accuracies = np.zeros(len(angleconstraints), dtype=np.float) # we will save the values here\n"
          ]
        },
        {
          "output_type": "stream",
          "name": "stdout",
          "text": [
            "Accuracy after rotation augmentation constrained by  0  is  0.6472\n",
            "Accuracy after rotation augmentation constrained by  10  is  0.6727\n",
            "Accuracy after rotation augmentation constrained by  20  is  0.673\n",
            "Accuracy after rotation augmentation constrained by  30  is  0.6737\n",
            "Accuracy after rotation augmentation constrained by  40  is  0.6731\n",
            "Accuracy after rotation augmentation constrained by  50  is  0.6701\n",
            "Accuracy after rotation augmentation constrained by  60  is  0.6675\n",
            "Accuracy after rotation augmentation constrained by  70  is  0.661\n",
            "Accuracy after rotation augmentation constrained by  80  is  0.6462\n",
            "Accuracy after rotation augmentation constrained by  90  is  0.6469\n"
          ]
        }
      ]
    },
    {
      "cell_type": "markdown",
      "metadata": {
        "id": "2oVDRYP2rxob"
      },
      "source": [
        "Let us see the best value for angle constraint: (Ideally this should be done on validation set, not test set)"
      ]
    },
    {
      "cell_type": "code",
      "metadata": {
        "id": "LqthJa_pmMHz",
        "colab": {
          "base_uri": "https://localhost:8080/",
          "height": 485
        },
        "outputId": "50400c50-f597-462f-fee7-c2b1361f37b6"
      },
      "source": [
        "fig = plt.figure()\n",
        "ax = fig.add_axes([0.1, 0.1, 0.8, 0.8]) # main axes\n",
        "# plot the variation of accuracy\n",
        "ax.plot(angleconstraints, accuracies)\n",
        "ax.set_xlabel('angle')\n",
        "ax.set_ylabel('accuracy')\n",
        "# plot the maximum accuracy\n",
        "maxind = np.argmax(accuracies)\n",
        "plt.scatter(angleconstraints[maxind], accuracies[maxind], c='red')"
      ],
      "execution_count": 13,
      "outputs": [
        {
          "output_type": "execute_result",
          "data": {
            "text/plain": [
              "<matplotlib.collections.PathCollection at 0x7fcfbba69db0>"
            ]
          },
          "metadata": {},
          "execution_count": 13
        },
        {
          "output_type": "display_data",
          "data": {
            "text/plain": [
              "<Figure size 640x480 with 1 Axes>"
            ],
            "image/png": "[encoded data removed]"
          },
          "metadata": {}
        }
      ]
    },
    {
      "cell_type": "markdown",
      "metadata": {
        "id": "eJ8YuVfCuGTj"
      },
      "source": [
        "Let us try one more augmentation: shear. Here is what this looks like:"
      ]
    },
    {
      "cell_type": "code",
      "metadata": {
        "id": "pMiw46NLwssK"
      },
      "source": [
        "def shear(sample, amount):\n",
        "  tform = AffineTransform(shear = amount) # create the shear transform\n",
        "  img = warp(sample, tform) # apply the shear\n",
        "  # this makes the digit off-center. Since all the images in the test set are centralized, we will do the same here\n",
        "  col = img.sum(0).nonzero()[0]\n",
        "  row = img.sum(1).nonzero()[0]\n",
        "  if len(col)>0 and len(row)>0:\n",
        "    xshift = int(sample.shape[0]/2 - (row[0]+row[-1])/2)\n",
        "    yshift = int(sample.shape[1]/2 - (col[0]+col[-1])/2)\n",
        "    img = np.roll(img, (xshift, yshift),(0,1))\n",
        "  return img"
      ],
      "execution_count": 14,
      "outputs": []
    },
    {
      "cell_type": "code",
      "metadata": {
        "id": "4_u_EYpmnABK",
        "colab": {
          "base_uri": "https://localhost:8080/",
          "height": 860
        },
        "outputId": "db5772cc-0b4d-46a4-ede5-1b4cb8303760"
      },
      "source": [
        "sample = train_X[2]\n",
        "plt.imshow(sample, cmap='gray')\n",
        "plt.show()\n",
        "\n",
        "# apply shear\n",
        "plt.imshow(shear(sample, 0.4), cmap='gray')"
      ],
      "execution_count": 15,
      "outputs": [
        {
          "output_type": "display_data",
          "data": {
            "text/plain": [
              "<Figure size 640x480 with 1 Axes>"
            ],
            "image/png": "[encoded data removed]"
          },
          "metadata": {}
        },
        {
          "output_type": "execute_result",
          "data": {
            "text/plain": [
              "<matplotlib.image.AxesImage at 0x7fcfbbb3a320>"
            ]
          },
          "metadata": {},
          "execution_count": 15
        },
        {
          "output_type": "display_data",
          "data": {
            "text/plain": [
              "<Figure size 640x480 with 1 Axes>"
            ],
            "image/png": "[encoded data removed]"
          },
          "metadata": {}
        }
      ]
    },
    {
      "cell_type": "markdown",
      "metadata": {
        "id": "lGnWMoyM2pK4"
      },
      "source": [
        "Create an augmentation function which applies a random shear according to the constraint we provide:"
      ]
    },
    {
      "cell_type": "code",
      "metadata": {
        "id": "-qLDJyGytwP5"
      },
      "source": [
        "def augShear(sample, shearconstraint):\n",
        "  if shearconstraint==0:\n",
        "    return sample\n",
        "  if len(sample.shape)==2:\n",
        "    sample = np.expand_dims(sample, 0)  # make sure the sample is 3 dimensional\n",
        "  amt = rng.random(len(sample)) # generate random numbers for shear\n",
        "  amt = (amt-0.5)*shearconstraint # make the random shear constrained\n",
        "  nsample = sample.copy() # preallocate the augmented array to make it faster\n",
        "  for ii in range(len(sample)):\n",
        "    nsample[ii] = shear(sample[ii], amt[ii])\n",
        "  return np.squeeze(nsample) # take care if the input had only one sample."
      ],
      "execution_count": 16,
      "outputs": []
    },
    {
      "cell_type": "markdown",
      "metadata": {
        "id": "s6lQcWW93suJ"
      },
      "source": [
        "Let us do a grid search to find the best shear constraint."
      ]
    },
    {
      "cell_type": "code",
      "metadata": {
        "id": "l_wrqPkrzBb_",
        "colab": {
          "base_uri": "https://localhost:8080/"
        },
        "outputId": "4ada0541-f785-4bc7-88a9-b2271c55f64f"
      },
      "source": [
        "shearconstraints = [0, 0.2,0.4,0.6,0.8,1.0,1.2,1.4,1.6,1.8,2.0] # the values we want to test\n",
        "accuracies = np.zeros(len(shearconstraints), dtype=np.float) # we will save the values here\n",
        "\n",
        "for ii in range(len(shearconstraints)):\n",
        "  # create the augmented dataset\n",
        "  augdata = train_X # we include the original images also in the augmented dataset\n",
        "  auglabel = train_y\n",
        "  for jj in range(naugmentations):\n",
        "    augdata = np.concatenate((augdata, augShear(train_X, shearconstraints[ii]))) # concatenate the augmented data to the set\n",
        "    auglabel = np.concatenate((auglabel, train_y))  # the labels don't change when we augment\n",
        "\n",
        "  # check the test accuracy\n",
        "  testpred = NN(augdata, auglabel, test_X)\n",
        "  accuracies[ii] = Accuracy(test_y, testpred)\n",
        "  print('Accuracy after shear augmentation constrained by ',shearconstraints[ii], ' is ', accuracies[ii], flush=True)"
      ],
      "execution_count": 17,
      "outputs": [
        {
          "output_type": "stream",
          "name": "stderr",
          "text": [
            "<ipython-input-17-8a89fef4983d>:2: DeprecationWarning: `np.float` is a deprecated alias for the builtin `float`. To silence this warning, use `float` by itself. Doing this will not modify any behavior and is safe. If you specifically wanted the numpy scalar type, use `np.float64` here.\n",
            "Deprecated in NumPy 1.20; for more details and guidance: https://numpy.org/devdocs/release/1.20.0-notes.html#deprecations\n",
            "  accuracies = np.zeros(len(shearconstraints), dtype=np.float) # we will save the values here\n"
          ]
        },
        {
          "output_type": "stream",
          "name": "stdout",
          "text": [
            "Accuracy after shear augmentation constrained by  0  is  0.6472\n",
            "Accuracy after shear augmentation constrained by  0.2  is  0.6147\n",
            "Accuracy after shear augmentation constrained by  0.4  is  0.632\n",
            "Accuracy after shear augmentation constrained by  0.6  is  0.6351\n",
            "Accuracy after shear augmentation constrained by  0.8  is  0.6636\n",
            "Accuracy after shear augmentation constrained by  1.0  is  0.6652\n",
            "Accuracy after shear augmentation constrained by  1.2  is  0.6495\n",
            "Accuracy after shear augmentation constrained by  1.4  is  0.6181\n",
            "Accuracy after shear augmentation constrained by  1.6  is  0.6323\n",
            "Accuracy after shear augmentation constrained by  1.8  is  0.6432\n",
            "Accuracy after shear augmentation constrained by  2.0  is  0.6277\n"
          ]
        }
      ]
    },
    {
      "cell_type": "code",
      "metadata": {
        "id": "EKaH-YR-zVnA",
        "colab": {
          "base_uri": "https://localhost:8080/",
          "height": 481
        },
        "outputId": "82d1ed04-b42d-4dd4-de7a-00d28b16e2e4"
      },
      "source": [
        "fig = plt.figure()\n",
        "ax = fig.add_axes([0.1, 0.1, 0.8, 0.8]) # main axes\n",
        "# plot the variation of accuracy\n",
        "ax.plot(shearconstraints, accuracies)\n",
        "ax.set_xlabel('angle')\n",
        "ax.set_ylabel('accuracy')\n",
        "# plot the maximum accuracy\n",
        "maxind = np.argmax(accuracies)\n",
        "plt.scatter(shearconstraints[maxind], accuracies[maxind], c='red')"
      ],
      "execution_count": 18,
      "outputs": [
        {
          "output_type": "execute_result",
          "data": {
            "text/plain": [
              "<matplotlib.collections.PathCollection at 0x7fcfbb9f5030>"
            ]
          },
          "metadata": {},
          "execution_count": 18
        },
        {
          "output_type": "display_data",
          "data": {
            "text/plain": [
              "<Figure size 640x480 with 1 Axes>"
            ],
            "image/png": "[encoded data removed]"
          },
          "metadata": {}
        }
      ]
    },
    {
      "cell_type": "markdown",
      "metadata": {
        "id": "ccfdbRcQ7Zgg"
      },
      "source": [
        "We can do multiple augmentations at the same time. Here is a function to do both shear and rotation to the sample. In this case, we will have two hyperparameters."
      ]
    },
    {
      "cell_type": "code",
      "metadata": {
        "id": "sh8S_Pxa0XCv"
      },
      "source": [
        "def augRotateShear(sample, angleconstraint, shearconstraint):\n",
        "  if len(sample.shape)==2:\n",
        "    sample = np.expand_dims(sample, 0)  # make sure the sample is 3 dimensional\n",
        "  amt = rng.random(len(sample)) # generate random numbers for shear\n",
        "  amt = (amt-0.5)*shearconstraint # make the random shear constrained\n",
        "  angle = rng.random(len(sample)) # generate random numbers for angles\n",
        "  angle = (angle-0.5)*angleconstraint # make the random angle constrained\n",
        "  nsample = sample.copy() # preallocate the augmented array to make it faster\n",
        "  for ii in range(len(sample)):\n",
        "    nsample[ii] = rotate(shear(sample[ii], amt[ii]), angle[ii]) # first apply shear, then rotate\n",
        "  return np.squeeze(nsample) # take care if the input had only one sample."
      ],
      "execution_count": 19,
      "outputs": []
    },
    {
      "cell_type": "markdown",
      "source": [],
      "metadata": {
        "id": "S8kBkCmttw61"
      }
    },
    {
      "cell_type": "markdown",
      "metadata": {
        "id": "OGKyjjNx-NQ4"
      },
      "source": [
        "Since we have two hyperparameters, we have to do the grid search on a 2 dimensional matrix. We can use our previous experience to inform where to search for the best hyperparameters."
      ]
    },
    {
      "cell_type": "code",
      "metadata": {
        "id": "TJC45WRg0pOP",
        "colab": {
          "base_uri": "https://localhost:8080/"
        },
        "outputId": "22289b8e-31cf-4945-d608-d9221b1adc02"
      },
      "source": [
        "shearconstraints = [0, 0.2,0.4,0.6] # the values we want to test\n",
        "angleconstraints = [0,10,20,30,40] # the values we want to test\n",
        "hyp = cartesian((shearconstraints, angleconstraints)) # cartesian product of both\n",
        "\n",
        "accuracies = np.zeros(len(hyp), dtype=np.float) # we will save the values here\n",
        "\n",
        "for ii in range(len(hyp)):\n",
        "  # create the augmented dataset\n",
        "  augdata = train_X # we include the original images also in the augmented dataset\n",
        "  auglabel = train_y\n",
        "  for jj in range(naugmentations):\n",
        "    augdata = np.concatenate((augdata, augRotateShear(train_X, hyp[ii][0], hyp[ii][1]))) # concatenate the augmented data to the set\n",
        "    auglabel = np.concatenate((auglabel, train_y))  # the labels don't change when we augment\n",
        "\n",
        "  # check the test accuracy\n",
        "  testpred = NN(augdata, auglabel, test_X)\n",
        "  accuracies[ii] = Accuracy(test_y, testpred)\n",
        "  print('Accuracy after augmentation shear:',hyp[ii][0], 'angle:',hyp[ii][1], ' is ', accuracies[ii], flush=True)"
      ],
      "execution_count": 20,
      "outputs": [
        {
          "output_type": "stream",
          "name": "stderr",
          "text": [
            "<ipython-input-20-f556bd90f369>:5: DeprecationWarning: `np.float` is a deprecated alias for the builtin `float`. To silence this warning, use `float` by itself. Doing this will not modify any behavior and is safe. If you specifically wanted the numpy scalar type, use `np.float64` here.\n",
            "Deprecated in NumPy 1.20; for more details and guidance: https://numpy.org/devdocs/release/1.20.0-notes.html#deprecations\n",
            "  accuracies = np.zeros(len(hyp), dtype=np.float) # we will save the values here\n"
          ]
        },
        {
          "output_type": "stream",
          "name": "stdout",
          "text": [
            "Accuracy after augmentation shear: 0.0 angle: 0.0  is  0.6332\n",
            "Accuracy after augmentation shear: 0.0 angle: 10.0  is  0.6151\n",
            "Accuracy after augmentation shear: 0.0 angle: 20.0  is  0.5997\n",
            "Accuracy after augmentation shear: 0.0 angle: 30.0  is  0.5915\n",
            "Accuracy after augmentation shear: 0.0 angle: 40.0  is  0.6198\n",
            "Accuracy after augmentation shear: 0.2 angle: 0.0  is  0.6338\n",
            "Accuracy after augmentation shear: 0.2 angle: 10.0  is  0.583\n",
            "Accuracy after augmentation shear: 0.2 angle: 20.0  is  0.6091\n",
            "Accuracy after augmentation shear: 0.2 angle: 30.0  is  0.5971\n",
            "Accuracy after augmentation shear: 0.2 angle: 40.0  is  0.5836\n",
            "Accuracy after augmentation shear: 0.4 angle: 0.0  is  0.6343\n",
            "Accuracy after augmentation shear: 0.4 angle: 10.0  is  0.5929\n",
            "Accuracy after augmentation shear: 0.4 angle: 20.0  is  0.5811\n",
            "Accuracy after augmentation shear: 0.4 angle: 30.0  is  0.6091\n",
            "Accuracy after augmentation shear: 0.4 angle: 40.0  is  0.6035\n",
            "Accuracy after augmentation shear: 0.6 angle: 0.0  is  0.6336\n",
            "Accuracy after augmentation shear: 0.6 angle: 10.0  is  0.6102\n",
            "Accuracy after augmentation shear: 0.6 angle: 20.0  is  0.5897\n",
            "Accuracy after augmentation shear: 0.6 angle: 30.0  is  0.612\n",
            "Accuracy after augmentation shear: 0.6 angle: 40.0  is  0.5783\n"
          ]
        }
      ]
    },
    {
      "cell_type": "markdown",
      "metadata": {
        "id": "PT6CnvSDEX7a"
      },
      "source": [
        "Let us plot it two dimensionally to see which is the best value for the hyperparameters:"
      ]
    },
    {
      "cell_type": "code",
      "metadata": {
        "id": "jD2i7msI_cLd",
        "colab": {
          "base_uri": "https://localhost:8080/",
          "height": 453
        },
        "outputId": "bf912a4a-2a1f-4852-9963-b1188efb359f"
      },
      "source": [
        "fig = plt.figure()\n",
        "ax = fig.add_axes([0.1, 0.1, 0.8, 0.8]) # main axes\n",
        "im = ax.imshow(accuracies.reshape((len(shearconstraints), len(angleconstraints))), cmap='inferno')\n",
        "ax.set_xlabel('angle')\n",
        "ax.set_ylabel('shear')\n",
        "ax.set_xticks(np.arange(len(angleconstraints)));\n",
        "ax.set_xticklabels(angleconstraints);\n",
        "ax.set_yticks(np.arange(len(shearconstraints)));\n",
        "ax.set_yticklabels(shearconstraints);\n",
        "plt.colorbar(im)"
      ],
      "execution_count": 21,
      "outputs": [
        {
          "output_type": "execute_result",
          "data": {
            "text/plain": [
              "<matplotlib.colorbar.Colorbar at 0x7fcfbba27a90>"
            ]
          },
          "metadata": {},
          "execution_count": 21
        },
        {
          "output_type": "display_data",
          "data": {
            "text/plain": [
              "<Figure size 640x480 with 2 Axes>"
            ],
            "image/png": "[encoded data removed]"
          },
          "metadata": {}
        }
      ]
    },
    {
      "cell_type": "markdown",
      "metadata": {
        "id": "OHcZWJiFJDMh"
      },
      "source": [
        "It seems that rotation and shear don't mix! The best accuracy is when rotation is zero."
      ]
    },
    {
      "cell_type": "markdown",
      "metadata": {
        "id": "PAasQo1C3x4A"
      },
      "source": [
        "## Questions\n",
        "Try these questions for better understanding. You may not be able to solve all of them.\n",
        "1. What is the best value for angle constraint and shear constraint you got? How much did the accuracy improve as compared to not using augmentations?\n",
        "2. Can you increase the accuracy by increasing the number of augmentations from each sample?\n",
        "3. Try implementing a few augmentations of your own and experimenting with them. A good reference is <a href=https://www.analyticsvidhya.com/blog/2019/12/image-augmentation-deep-learning-pytorch/>here. </a>\n",
        "4. Try combining various augmentations. What is the highest accuracy you can get? What is the smallest training dataset you can take and still get accuracy above 50%?\n",
        "\n",
        "Whenever you do any experiment, a good practice is to vary the hyperparameters gradually and create a graph of your results, like we did for gridsearch."
      ]
    },
    {
      "cell_type": "markdown",
      "source": [
        "### 1. Comparing my own values of shear and angle constraint and seeing their accuracy"
      ],
      "metadata": {
        "id": "tdKAN52llyxt"
      }
    },
    {
      "cell_type": "code",
      "source": [
        "shearconstraints = [0, 0.1, 0.3, 0.5, 0.7, 0.9, 1.1, 1.3, 1.5]\n",
        "angleconstraints = [0, 15, 30, 45, 60, 75, 90]\n",
        "\n",
        "hyp = cartesian((shearconstraints, angleconstraints)) # cartesian product of both\n",
        "\n",
        "accuracies = np.zeros(len(hyp), dtype=np.float) # we will save the values here\n",
        "\n",
        "for ii in range(len(hyp)):\n",
        "  # create the augmented dataset\n",
        "  augdata = train_X # we include the original images also in the augmented dataset\n",
        "  auglabel = train_y\n",
        "  for jj in range(naugmentations):\n",
        "    augdata = np.concatenate((augdata, augRotateShear(train_X, hyp[ii][0], hyp[ii][1]))) # concatenate the augmented data to the set\n",
        "    auglabel = np.concatenate((auglabel, train_y))  # the labels don't change when we augment\n",
        "\n",
        "  # check the test accuracy\n",
        "  testpred = NN(augdata, auglabel, test_X)\n",
        "  accuracies[ii] = Accuracy(test_y, testpred)\n",
        "  print('Accuracy after augmentation shear:',hyp[ii][0], 'angle:',hyp[ii][1], ' is ', accuracies[ii], flush=True)\n"
      ],
      "metadata": {
        "id": "oMqi68iXlwDx",
        "outputId": "856ff409-5c8b-4907-a7aa-ded4ec40d760",
        "colab": {
          "base_uri": "https://localhost:8080/"
        }
      },
      "execution_count": 22,
      "outputs": [
        {
          "output_type": "stream",
          "name": "stderr",
          "text": [
            "<ipython-input-22-d30963b80f07>:6: DeprecationWarning: `np.float` is a deprecated alias for the builtin `float`. To silence this warning, use `float` by itself. Doing this will not modify any behavior and is safe. If you specifically wanted the numpy scalar type, use `np.float64` here.\n",
            "Deprecated in NumPy 1.20; for more details and guidance: https://numpy.org/devdocs/release/1.20.0-notes.html#deprecations\n",
            "  accuracies = np.zeros(len(hyp), dtype=np.float) # we will save the values here\n"
          ]
        },
        {
          "output_type": "stream",
          "name": "stdout",
          "text": [
            "Accuracy after augmentation shear: 0.0 angle: 0.0  is  0.6332\n",
            "Accuracy after augmentation shear: 0.0 angle: 15.0  is  0.596\n",
            "Accuracy after augmentation shear: 0.0 angle: 30.0  is  0.5925\n",
            "Accuracy after augmentation shear: 0.0 angle: 45.0  is  0.6173\n",
            "Accuracy after augmentation shear: 0.0 angle: 60.0  is  0.5738\n",
            "Accuracy after augmentation shear: 0.0 angle: 75.0  is  0.6062\n",
            "Accuracy after augmentation shear: 0.0 angle: 90.0  is  0.5929\n",
            "Accuracy after augmentation shear: 0.1 angle: 0.0  is  0.6337\n",
            "Accuracy after augmentation shear: 0.1 angle: 15.0  is  0.6082\n",
            "Accuracy after augmentation shear: 0.1 angle: 30.0  is  0.5978\n",
            "Accuracy after augmentation shear: 0.1 angle: 45.0  is  0.5843\n",
            "Accuracy after augmentation shear: 0.1 angle: 60.0  is  0.6188\n",
            "Accuracy after augmentation shear: 0.1 angle: 75.0  is  0.602\n",
            "Accuracy after augmentation shear: 0.1 angle: 90.0  is  0.6301\n",
            "Accuracy after augmentation shear: 0.3 angle: 0.0  is  0.6339\n",
            "Accuracy after augmentation shear: 0.3 angle: 15.0  is  0.6159\n",
            "Accuracy after augmentation shear: 0.3 angle: 30.0  is  0.586\n",
            "Accuracy after augmentation shear: 0.3 angle: 45.0  is  0.5944\n",
            "Accuracy after augmentation shear: 0.3 angle: 60.0  is  0.5985\n",
            "Accuracy after augmentation shear: 0.3 angle: 75.0  is  0.5998\n",
            "Accuracy after augmentation shear: 0.3 angle: 90.0  is  0.6295\n",
            "Accuracy after augmentation shear: 0.5 angle: 0.0  is  0.6344\n",
            "Accuracy after augmentation shear: 0.5 angle: 15.0  is  0.6107\n",
            "Accuracy after augmentation shear: 0.5 angle: 30.0  is  0.6021\n",
            "Accuracy after augmentation shear: 0.5 angle: 45.0  is  0.5855\n",
            "Accuracy after augmentation shear: 0.5 angle: 60.0  is  0.6061\n",
            "Accuracy after augmentation shear: 0.5 angle: 75.0  is  0.5906\n",
            "Accuracy after augmentation shear: 0.5 angle: 90.0  is  0.5985\n",
            "Accuracy after augmentation shear: 0.7 angle: 0.0  is  0.6356\n",
            "Accuracy after augmentation shear: 0.7 angle: 15.0  is  0.6123\n",
            "Accuracy after augmentation shear: 0.7 angle: 30.0  is  0.6089\n",
            "Accuracy after augmentation shear: 0.7 angle: 45.0  is  0.5787\n",
            "Accuracy after augmentation shear: 0.7 angle: 60.0  is  0.5861\n",
            "Accuracy after augmentation shear: 0.7 angle: 75.0  is  0.6124\n",
            "Accuracy after augmentation shear: 0.7 angle: 90.0  is  0.6048\n",
            "Accuracy after augmentation shear: 0.9 angle: 0.0  is  0.6355\n",
            "Accuracy after augmentation shear: 0.9 angle: 15.0  is  0.5796\n",
            "Accuracy after augmentation shear: 0.9 angle: 30.0  is  0.5986\n",
            "Accuracy after augmentation shear: 0.9 angle: 45.0  is  0.5773\n",
            "Accuracy after augmentation shear: 0.9 angle: 60.0  is  0.6074\n",
            "Accuracy after augmentation shear: 0.9 angle: 75.0  is  0.6013\n",
            "Accuracy after augmentation shear: 0.9 angle: 90.0  is  0.6006\n",
            "Accuracy after augmentation shear: 1.1 angle: 0.0  is  0.6336\n",
            "Accuracy after augmentation shear: 1.1 angle: 15.0  is  0.6021\n",
            "Accuracy after augmentation shear: 1.1 angle: 30.0  is  0.5827\n",
            "Accuracy after augmentation shear: 1.1 angle: 45.0  is  0.5986\n",
            "Accuracy after augmentation shear: 1.1 angle: 60.0  is  0.5936\n",
            "Accuracy after augmentation shear: 1.1 angle: 75.0  is  0.6154\n",
            "Accuracy after augmentation shear: 1.1 angle: 90.0  is  0.604\n",
            "Accuracy after augmentation shear: 1.3 angle: 0.0  is  0.634\n",
            "Accuracy after augmentation shear: 1.3 angle: 15.0  is  0.5973\n",
            "Accuracy after augmentation shear: 1.3 angle: 30.0  is  0.6222\n",
            "Accuracy after augmentation shear: 1.3 angle: 45.0  is  0.5905\n",
            "Accuracy after augmentation shear: 1.3 angle: 60.0  is  0.6081\n",
            "Accuracy after augmentation shear: 1.3 angle: 75.0  is  0.6064\n",
            "Accuracy after augmentation shear: 1.3 angle: 90.0  is  0.5961\n",
            "Accuracy after augmentation shear: 1.5 angle: 0.0  is  0.633\n",
            "Accuracy after augmentation shear: 1.5 angle: 15.0  is  0.6188\n",
            "Accuracy after augmentation shear: 1.5 angle: 30.0  is  0.6022\n",
            "Accuracy after augmentation shear: 1.5 angle: 45.0  is  0.5927\n",
            "Accuracy after augmentation shear: 1.5 angle: 60.0  is  0.6022\n",
            "Accuracy after augmentation shear: 1.5 angle: 75.0  is  0.6031\n",
            "Accuracy after augmentation shear: 1.5 angle: 90.0  is  0.6082\n"
          ]
        }
      ]
    },
    {
      "cell_type": "code",
      "source": [
        "fig = plt.figure()\n",
        "ax = fig.add_axes([0.1, 0.1, 0.8, 0.8]) # main axes\n",
        "im = ax.imshow(accuracies.reshape((len(shearconstraints), len(angleconstraints))), cmap='inferno')\n",
        "ax.set_xlabel('angle')\n",
        "ax.set_ylabel('shear')\n",
        "ax.set_xticks(np.arange(len(angleconstraints)));\n",
        "ax.set_xticklabels(angleconstraints);\n",
        "ax.set_yticks(np.arange(len(shearconstraints)));\n",
        "ax.set_yticklabels(shearconstraints);\n",
        "plt.colorbar(im)"
      ],
      "metadata": {
        "id": "g-b4D4FCq2kj",
        "outputId": "4f1bc460-940d-406f-fdcd-9220e73af0ef",
        "colab": {
          "base_uri": "https://localhost:8080/",
          "height": 481
        }
      },
      "execution_count": 23,
      "outputs": [
        {
          "output_type": "execute_result",
          "data": {
            "text/plain": [
              "<matplotlib.colorbar.Colorbar at 0x7fcfbb79db70>"
            ]
          },
          "metadata": {},
          "execution_count": 23
        },
        {
          "output_type": "display_data",
          "data": {
            "text/plain": [
              "<Figure size 640x480 with 2 Axes>"
            ],
            "image/png": "[encoded data removed]"
          },
          "metadata": {}
        }
      ]
    },
    {
      "cell_type": "markdown",
      "source": [
        "##### 2. Increasing the number of augmentations can increase the accuracy upto a certain limit after which it will demonstrate overfitting. I have added a variavle called naugmentations to test various accuracies"
      ],
      "metadata": {
        "id": "y0KWrpbVrWmI"
      }
    },
    {
      "cell_type": "code",
      "source": [
        "import numpy as np\n",
        "\n",
        "shearconstraints = [0, 0.2, 0.4]  # Values for shear constraints\n",
        "angleconstraints = [0, 10, 20, 30]  # Values for angle constraints\n",
        "\n",
        "\n",
        "naugmentations = 10\n",
        "\n",
        "accuracies = np.zeros(len(hyp), dtype=np.float)\n",
        "\n",
        "for ii in range(len(hyp)):\n",
        "    augdata = train_X\n",
        "    auglabel = train_y\n",
        "    for jj in range(naugmentations):\n",
        "        augdata = np.concatenate((augdata, augRotateShear(train_X, hyp[ii][0], hyp[ii][1])))\n",
        "        auglabel = np.concatenate((auglabel, train_y))\n",
        "\n",
        "    testpred = NN(augdata, auglabel, test_X)\n",
        "    accuracies[ii] = Accuracy(test_y, testpred)\n",
        "    print('Accuracy after augmentation shear:', hyp[ii][0], 'angle:', hyp[ii][1], ' is ', accuracies[ii], flush=True)\n"
      ],
      "metadata": {
        "id": "69BtltG9rD85",
        "outputId": "f6d5d10a-fa1b-41d1-b0e5-bce9fdcc663d",
        "colab": {
          "base_uri": "https://localhost:8080/"
        }
      },
      "execution_count": 24,
      "outputs": [
        {
          "output_type": "stream",
          "name": "stderr",
          "text": [
            "<ipython-input-24-5afefe24049e>:9: DeprecationWarning: `np.float` is a deprecated alias for the builtin `float`. To silence this warning, use `float` by itself. Doing this will not modify any behavior and is safe. If you specifically wanted the numpy scalar type, use `np.float64` here.\n",
            "Deprecated in NumPy 1.20; for more details and guidance: https://numpy.org/devdocs/release/1.20.0-notes.html#deprecations\n",
            "  accuracies = np.zeros(len(hyp), dtype=np.float)\n"
          ]
        },
        {
          "output_type": "stream",
          "name": "stdout",
          "text": [
            "Accuracy after augmentation shear: 0.0 angle: 0.0  is  0.6332\n",
            "Accuracy after augmentation shear: 0.0 angle: 15.0  is  0.5886\n",
            "Accuracy after augmentation shear: 0.0 angle: 30.0  is  0.5984\n",
            "Accuracy after augmentation shear: 0.0 angle: 45.0  is  0.609\n",
            "Accuracy after augmentation shear: 0.0 angle: 60.0  is  0.5757\n",
            "Accuracy after augmentation shear: 0.0 angle: 75.0  is  0.5958\n",
            "Accuracy after augmentation shear: 0.0 angle: 90.0  is  0.5818\n",
            "Accuracy after augmentation shear: 0.1 angle: 0.0  is  0.634\n",
            "Accuracy after augmentation shear: 0.1 angle: 15.0  is  0.62\n",
            "Accuracy after augmentation shear: 0.1 angle: 30.0  is  0.5936\n",
            "Accuracy after augmentation shear: 0.1 angle: 45.0  is  0.6173\n",
            "Accuracy after augmentation shear: 0.1 angle: 60.0  is  0.6095\n",
            "Accuracy after augmentation shear: 0.1 angle: 75.0  is  0.6101\n",
            "Accuracy after augmentation shear: 0.1 angle: 90.0  is  0.5926\n",
            "Accuracy after augmentation shear: 0.3 angle: 0.0  is  0.6339\n",
            "Accuracy after augmentation shear: 0.3 angle: 15.0  is  0.6025\n",
            "Accuracy after augmentation shear: 0.3 angle: 30.0  is  0.585\n",
            "Accuracy after augmentation shear: 0.3 angle: 45.0  is  0.5859\n",
            "Accuracy after augmentation shear: 0.3 angle: 60.0  is  0.6182\n",
            "Accuracy after augmentation shear: 0.3 angle: 75.0  is  0.5933\n",
            "Accuracy after augmentation shear: 0.3 angle: 90.0  is  0.5874\n",
            "Accuracy after augmentation shear: 0.5 angle: 0.0  is  0.6337\n",
            "Accuracy after augmentation shear: 0.5 angle: 15.0  is  0.5865\n",
            "Accuracy after augmentation shear: 0.5 angle: 30.0  is  0.6193\n",
            "Accuracy after augmentation shear: 0.5 angle: 45.0  is  0.5889\n",
            "Accuracy after augmentation shear: 0.5 angle: 60.0  is  0.5858\n",
            "Accuracy after augmentation shear: 0.5 angle: 75.0  is  0.6075\n",
            "Accuracy after augmentation shear: 0.5 angle: 90.0  is  0.6082\n",
            "Accuracy after augmentation shear: 0.7 angle: 0.0  is  0.6338\n",
            "Accuracy after augmentation shear: 0.7 angle: 15.0  is  0.5962\n",
            "Accuracy after augmentation shear: 0.7 angle: 30.0  is  0.5947\n",
            "Accuracy after augmentation shear: 0.7 angle: 45.0  is  0.6042\n",
            "Accuracy after augmentation shear: 0.7 angle: 60.0  is  0.6017\n",
            "Accuracy after augmentation shear: 0.7 angle: 75.0  is  0.5882\n",
            "Accuracy after augmentation shear: 0.7 angle: 90.0  is  0.5889\n",
            "Accuracy after augmentation shear: 0.9 angle: 0.0  is  0.6336\n",
            "Accuracy after augmentation shear: 0.9 angle: 15.0  is  0.6011\n",
            "Accuracy after augmentation shear: 0.9 angle: 30.0  is  0.6124\n",
            "Accuracy after augmentation shear: 0.9 angle: 45.0  is  0.5866\n",
            "Accuracy after augmentation shear: 0.9 angle: 60.0  is  0.5995\n",
            "Accuracy after augmentation shear: 0.9 angle: 75.0  is  0.5882\n",
            "Accuracy after augmentation shear: 0.9 angle: 90.0  is  0.5711\n",
            "Accuracy after augmentation shear: 1.1 angle: 0.0  is  0.6336\n",
            "Accuracy after augmentation shear: 1.1 angle: 15.0  is  0.6151\n",
            "Accuracy after augmentation shear: 1.1 angle: 30.0  is  0.593\n",
            "Accuracy after augmentation shear: 1.1 angle: 45.0  is  0.5901\n",
            "Accuracy after augmentation shear: 1.1 angle: 60.0  is  0.6225\n",
            "Accuracy after augmentation shear: 1.1 angle: 75.0  is  0.6219\n",
            "Accuracy after augmentation shear: 1.1 angle: 90.0  is  0.5683\n",
            "Accuracy after augmentation shear: 1.3 angle: 0.0  is  0.6333\n",
            "Accuracy after augmentation shear: 1.3 angle: 15.0  is  0.6053\n",
            "Accuracy after augmentation shear: 1.3 angle: 30.0  is  0.5775\n",
            "Accuracy after augmentation shear: 1.3 angle: 45.0  is  0.6096\n",
            "Accuracy after augmentation shear: 1.3 angle: 60.0  is  0.6118\n",
            "Accuracy after augmentation shear: 1.3 angle: 75.0  is  0.5825\n",
            "Accuracy after augmentation shear: 1.3 angle: 90.0  is  0.6206\n",
            "Accuracy after augmentation shear: 1.5 angle: 0.0  is  0.6333\n",
            "Accuracy after augmentation shear: 1.5 angle: 15.0  is  0.5901\n",
            "Accuracy after augmentation shear: 1.5 angle: 30.0  is  0.6068\n",
            "Accuracy after augmentation shear: 1.5 angle: 45.0  is  0.6091\n",
            "Accuracy after augmentation shear: 1.5 angle: 60.0  is  0.6029\n",
            "Accuracy after augmentation shear: 1.5 angle: 75.0  is  0.5958\n",
            "Accuracy after augmentation shear: 1.5 angle: 90.0  is  0.598\n"
          ]
        }
      ]
    },
    {
      "cell_type": "markdown",
      "source": [
        "3. I have implemented a randomsheera nd rotate and also adding some gaussian noise"
      ],
      "metadata": {
        "id": "wM8cgBWMt2Bm"
      }
    },
    {
      "cell_type": "code",
      "source": [
        "def augRotateShear(sample, angleconstraint, shearconstraint):\n",
        "    if len(sample.shape) == 2:\n",
        "        sample = np.expand_dims(sample, 0)\n",
        "\n",
        "    amt_shear = np.random.uniform(-shearconstraint, shearconstraint, len(sample))\n",
        "    angle = np.random.uniform(-angleconstraint, angleconstraint, len(sample))\n",
        "\n",
        "    nsample = sample.copy()\n",
        "\n",
        "    for ii in range(len(sample)):\n",
        "        shear_matrix = np.array([[1, amt_shear[ii], 0], [0, 1, 0]])\n",
        "        sheared_image = cv2.warpAffine(sample[ii], shear_matrix, (sample[ii].shape[1], sample[ii].shape[0]))\n",
        "        rotated_image = rotate(sheared_image, angle[ii])\n",
        "        nsample[ii] = rotated_image\n",
        "\n",
        "    return np.squeeze(nsample)\n"
      ],
      "metadata": {
        "id": "Yy1pxo1luc13"
      },
      "execution_count": 25,
      "outputs": []
    },
    {
      "cell_type": "code",
      "source": [
        "import random\n",
        "import numpy as np\n",
        "import cv2\n",
        "\n",
        "def augRotateShearNoise(sample, angleconstraint, shearconstraint, noise_std=25):\n",
        "    if len(sample.shape) == 2:\n",
        "        sample = np.expand_dims(sample, 0)  # Make sure the sample is 3 dimensional\n",
        "\n",
        "    amt_shear = np.random.uniform(-shearconstraint, shearconstraint, len(sample))  # Generate random shear values\n",
        "    angle = np.random.uniform(-angleconstraint, angleconstraint, len(sample))  # Generate random angles\n",
        "\n",
        "    nsample = sample.copy()  # Preallocate the augmented array to make it faster\n",
        "\n",
        "    for ii in range(len(sample)):\n",
        "        # Apply shear and rotation\n",
        "        shear_matrix = np.array([[1, amt_shear[ii], 0], [0, 1, 0]])\n",
        "        sheared_image = cv2.warpAffine(sample[ii], shear_matrix, (sample[ii].shape[1], sample[ii].shape[0]))\n",
        "        rotated_image = rotate(sheared_image, angle[ii])\n",
        "\n",
        "        # Add Gaussian noise to the rotated image\n",
        "        noisy_image = rotated_image + np.random.normal(0, noise_std, rotated_image.shape).astype(np.uint8)\n",
        "\n",
        "        nsample[ii] = noisy_image\n",
        "\n",
        "    return np.squeeze(nsample)  # Take care if the input had only one sample.\n"
      ],
      "metadata": {
        "id": "Yeud-Ew1u6TB"
      },
      "execution_count": 26,
      "outputs": []
    }
  ]
}